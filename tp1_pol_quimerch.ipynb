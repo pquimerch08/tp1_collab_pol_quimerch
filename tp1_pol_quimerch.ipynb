{
  "nbformat": 4,
  "nbformat_minor": 0,
  "metadata": {
    "colab": {
      "provenance": [],
      "include_colab_link": true
    },
    "kernelspec": {
      "name": "python3",
      "display_name": "Python 3"
    },
    "language_info": {
      "name": "python"
    }
  },
  "cells": [
    {
      "cell_type": "markdown",
      "metadata": {
        "id": "view-in-github",
        "colab_type": "text"
      },
      "source": [
        "<a href=\"https://colab.research.google.com/github/pquimerch08/tp1_collab_pol_quimerch/blob/main/tp1_pol_quimerch.ipynb\" target=\"_parent\"><img src=\"https://colab.research.google.com/assets/colab-badge.svg\" alt=\"Open In Colab\"/></a>"
      ]
    },
    {
      "cell_type": "markdown",
      "source": [
        "#TP: PySpark pour analyse de données de films."
      ],
      "metadata": {
        "id": "orozSqBqFmPi"
      }
    },
    {
      "cell_type": "code",
      "source": [
        "from pyspark.sql import SparkSession\n",
        "from pyspark.sql.functions import avg, round, split, explode, regexp_replace, when, ceil\n"
      ],
      "metadata": {
        "id": "LtS-q-RgFsTa"
      },
      "execution_count": 164,
      "outputs": []
    },
    {
      "cell_type": "markdown",
      "source": [
        "## 1. Prise en main: Préparation des données"
      ],
      "metadata": {
        "id": "m-te9S_phZEp"
      }
    },
    {
      "cell_type": "markdown",
      "source": [
        "#### Initialiser la session Spark"
      ],
      "metadata": {
        "id": "UOC65v49G4_q"
      }
    },
    {
      "cell_type": "code",
      "source": [
        "spark = SparkSession.builder.appName(\"MoviesData\").getOrCreate()"
      ],
      "metadata": {
        "id": "z9O1YhkcG127"
      },
      "execution_count": 143,
      "outputs": []
    },
    {
      "cell_type": "markdown",
      "source": [
        "#### Charger le fichier CSV dans un DataFrame"
      ],
      "metadata": {
        "id": "1xIH4eDHHE8u"
      }
    },
    {
      "cell_type": "code",
      "source": [
        "file_path = \"Rotten Tomatoes Movies.csv\"\n",
        "df = spark.read.option(\"header\", \"true\").csv(file_path)"
      ],
      "metadata": {
        "id": "ZgyGl-7PHAT5"
      },
      "execution_count": 144,
      "outputs": []
    },
    {
      "cell_type": "code",
      "source": [
        "df.show(10)"
      ],
      "metadata": {
        "id": "J_Hg1gMYHGrr",
        "colab": {
          "base_uri": "https://localhost:8080/"
        },
        "outputId": "7cb933c5-4975-4f96-9ade-b2d4fd2dc1bb"
      },
      "execution_count": 145,
      "outputs": [
        {
          "output_type": "stream",
          "name": "stdout",
          "text": [
            "+--------------------+--------------------+--------------------+--------------------+--------------------+--------------------+--------------------+--------------------+--------------------+--------------------+--------------------+--------------------+--------------------+--------------------+--------------------+---------------+--------------------+\n",
            "|         movie_title|          movie_info|   critics_consensus|              rating|               genre|           directors|             writers|                cast|    in_theaters_date|   on_streaming_date|  runtime_in_minutes|         studio_name|  tomatometer_status|  tomatometer_rating|   tomatometer_count|audience_rating|      audience_count|\n",
            "+--------------------+--------------------+--------------------+--------------------+--------------------+--------------------+--------------------+--------------------+--------------------+--------------------+--------------------+--------------------+--------------------+--------------------+--------------------+---------------+--------------------+\n",
            "|Percy Jackson & t...|A teenager discov...|Though it may see...|                  PG|Action & Adventur...|      Chris Columbus|        Craig Titley|Logan Lerman, Bra...|          2010-02-12|          2010-06-29|                  83|    20th Century Fox|              Rotten|                  49|                 144|             53|              254287|\n",
            "|         Please Give|Kate has a lot on...|Nicole Holofcener...|                   R|              Comedy|   Nicole Holofcener|   Nicole Holofcener|Catherine Keener,...|          2010-04-30|          2010-10-19|                  90|Sony Pictures Cla...|     Certified Fresh|                  86|                 140|             64|               11567|\n",
            "|                  10|\"Blake Edwards' 1...|    upon its release| 10 was one of th...|               Rovi\"|                NULL|                   R|     Comedy, Romance|       Blake Edwards|       Blake Edwards|Dudley Moore, Bo ...|          1979-10-05|          1997-08-27|                 118|         Waner Bros.|          Fresh|                  68|\n",
            "|12 Angry Men (Twe...|\"A Puerto Rican y...|\"\" hopes that his...|  an advertising man| doesn't understa...| #2 (John Fiedler...| anxious not to m...| \"\"go with the fl...| Fonda chips away...| insisting that h...| Twelve Angry Men...| who wrote the 19...| here making his ...| since it cost al...| Twelve Angry Men...|          Rovi\"|Sidney Lumet's fe...|\n",
            "|20,000 Leagues Un...|This 1954 Disney ...|One of Disney's f...|                   G|Action & Adventur...|   Richard Fleischer|         Earl Felton|James Mason, Kirk...|          1954-01-01|          2003-05-20|                 127|              Disney|               Fresh|                  89|                  27|             74|               68860|\n",
            "|         10,000 B.C.|A young outcast f...|With attention st...|               PG-13|Action & Adventur...|     Roland Emmerich|Roland Emmerich, ...|Steven Strait, Ca...|          2008-03-07|          2008-06-24|                 109|Warner Bros. Pict...|              Rotten|                   8|                 148|             37|              411087|\n",
            "|        The 39 Steps|A man in London t...|Packed with twist...|                  NR|Action & Adventur...|    Alfred Hitchcock|Alma Reville, Cha...|Robert Donat, Mad...|          1935-08-01|          1935-06-06|                  87|Gaumont British D...|     Certified Fresh|                  96|                  47|             86|               23827|\n",
            "|        3:10 to Yuma|Desperate for mon...|                NULL|                  NR|Classics, Drama, ...|        Delmer Daves|      Halsted Welles|Glenn Ford, Van H...|          1957-08-07|          2002-04-02|                  92|   Columbia Pictures|               Fresh|                  96|                  27|             78|                9224|\n",
            "|Charly (A Heartbe...|Sam Roberts think...|                NULL|                  PG|Comedy, Drama, Ro...|Adam Thomas Anderegg|Jack Weyland, Jan...|Heather Beers, Ga...|          2002-09-27|          2003-08-01|                 103| Excel Entertainment|              Rotten|                  20|                  10|             87|                4819|\n",
            "|     Abraham Lincoln|To date, this D.W...|                NULL|                  NR|     Classics, Drama|       D.W. Griffith|Gerrit J. Lloyd, ...|Walter Huston, Un...|          1930-11-08|          2008-11-18|                  97|      United Artists|               Fresh|                  90|                  10|             38|                 455|\n",
            "+--------------------+--------------------+--------------------+--------------------+--------------------+--------------------+--------------------+--------------------+--------------------+--------------------+--------------------+--------------------+--------------------+--------------------+--------------------+---------------+--------------------+\n",
            "only showing top 10 rows\n",
            "\n"
          ]
        }
      ]
    },
    {
      "cell_type": "markdown",
      "source": [
        "#### Supprimer les lignes contenant des valeurs nulles"
      ],
      "metadata": {
        "id": "LDmaEOr1Hd-y"
      }
    },
    {
      "cell_type": "code",
      "source": [
        "df_clean = df.dropna()"
      ],
      "metadata": {
        "id": "SxYJ9fsvHJe6"
      },
      "execution_count": 146,
      "outputs": []
    },
    {
      "cell_type": "code",
      "source": [
        "df_clean.show(10)"
      ],
      "metadata": {
        "id": "uVJi2wB1Hj2D",
        "colab": {
          "base_uri": "https://localhost:8080/"
        },
        "outputId": "c578e6f1-804d-4c45-c5c0-793d9cbfc42b"
      },
      "execution_count": 147,
      "outputs": [
        {
          "output_type": "stream",
          "name": "stdout",
          "text": [
            "+--------------------+--------------------+--------------------+--------------------+--------------------+--------------------+--------------------+--------------------+--------------------+--------------------+--------------------+--------------------+--------------------+--------------------+--------------------+---------------+--------------------+\n",
            "|         movie_title|          movie_info|   critics_consensus|              rating|               genre|           directors|             writers|                cast|    in_theaters_date|   on_streaming_date|  runtime_in_minutes|         studio_name|  tomatometer_status|  tomatometer_rating|   tomatometer_count|audience_rating|      audience_count|\n",
            "+--------------------+--------------------+--------------------+--------------------+--------------------+--------------------+--------------------+--------------------+--------------------+--------------------+--------------------+--------------------+--------------------+--------------------+--------------------+---------------+--------------------+\n",
            "|Percy Jackson & t...|A teenager discov...|Though it may see...|                  PG|Action & Adventur...|      Chris Columbus|        Craig Titley|Logan Lerman, Bra...|          2010-02-12|          2010-06-29|                  83|    20th Century Fox|              Rotten|                  49|                 144|             53|              254287|\n",
            "|         Please Give|Kate has a lot on...|Nicole Holofcener...|                   R|              Comedy|   Nicole Holofcener|   Nicole Holofcener|Catherine Keener,...|          2010-04-30|          2010-10-19|                  90|Sony Pictures Cla...|     Certified Fresh|                  86|                 140|             64|               11567|\n",
            "|12 Angry Men (Twe...|\"A Puerto Rican y...|\"\" hopes that his...|  an advertising man| doesn't understa...| #2 (John Fiedler...| anxious not to m...| \"\"go with the fl...| Fonda chips away...| insisting that h...| Twelve Angry Men...| who wrote the 19...| here making his ...| since it cost al...| Twelve Angry Men...|          Rovi\"|Sidney Lumet's fe...|\n",
            "|20,000 Leagues Un...|This 1954 Disney ...|One of Disney's f...|                   G|Action & Adventur...|   Richard Fleischer|         Earl Felton|James Mason, Kirk...|          1954-01-01|          2003-05-20|                 127|              Disney|               Fresh|                  89|                  27|             74|               68860|\n",
            "|         10,000 B.C.|A young outcast f...|With attention st...|               PG-13|Action & Adventur...|     Roland Emmerich|Roland Emmerich, ...|Steven Strait, Ca...|          2008-03-07|          2008-06-24|                 109|Warner Bros. Pict...|              Rotten|                   8|                 148|             37|              411087|\n",
            "|        The 39 Steps|A man in London t...|Packed with twist...|                  NR|Action & Adventur...|    Alfred Hitchcock|Alma Reville, Cha...|Robert Donat, Mad...|          1935-08-01|          1935-06-06|                  87|Gaumont British D...|     Certified Fresh|                  96|                  47|             86|               23827|\n",
            "|       The Lost City|Andy Garcia stars...|Its heart is in t...|                   R|               Drama|         Andy Garcia|G. Cabrera Infant...|Andy Garcia, Dust...|          2005-09-03|          2006-08-08|                 143|   Magnolia Pictures|              Rotten|                  25|                  83|             64|               25940|\n",
            "|          Adam's Rib|\"Written by Ruth ...| while Amanda def...| while the Bonner...|           Tom Ewell| and David Wayne ...| and the return t...| it inspired a br...|Matched by Garson...|                  NR|Classics, Comedy,...|        George Cukor|Garson Kanin, Rut...|Spencer Tracy, Ka...|          1949-11-18|     2000-09-19|                 100|\n",
            "|The Bridge of San...|Thornton Wilder's...|Despite an all-st...|                  PG|Art House & Inter...|      Mary McGuckian|      Mary McGuckian|Gabriel Byrne, F....|          2005-06-10|          2005-10-11|                 120|  Fine Line Features|              Rotten|                   4|                  24|             35|                1931|\n",
            "|            Criminal|A contemporary ca...|If you saw Nine Q...|                   R|Drama, Mystery & ...|Greggory Jacobs, ...|Gregory Jacobs, F...|John C. Reilly, D...|          2004-09-24|          2005-04-12|                  88|Warner Bros. Pict...|               Fresh|                  69|                 124|             57|                6702|\n",
            "+--------------------+--------------------+--------------------+--------------------+--------------------+--------------------+--------------------+--------------------+--------------------+--------------------+--------------------+--------------------+--------------------+--------------------+--------------------+---------------+--------------------+\n",
            "only showing top 10 rows\n",
            "\n"
          ]
        }
      ]
    },
    {
      "cell_type": "code",
      "source": [
        "from pyspark.sql.functions import col, to_date"
      ],
      "metadata": {
        "id": "CFn7HzDuJSSN"
      },
      "execution_count": 148,
      "outputs": []
    },
    {
      "cell_type": "markdown",
      "source": [
        "#### Convertir les colonnes in_theaters_date et on_streaming_date au format yyyy-MM-dd"
      ],
      "metadata": {
        "id": "yCz0xE6yKvO6"
      }
    },
    {
      "cell_type": "code",
      "source": [
        "df_clean = df_clean \\\n",
        "    .withColumn(\"in_theaters_date\", to_date(col(\"in_theaters_date\"), \"yyyy-MM-dd\")) \\\n",
        "    .withColumn(\"on_streaming_date\", to_date(col(\"on_streaming_date\"), \"yyyy-MM-dd\")) \\\n",
        "    .na.drop(subset=[\"in_theaters_date\", \"on_streaming_date\"]) #Supprimer les lignes avec des valeurs nulles ou invalides\n"
      ],
      "metadata": {
        "id": "WiBD3nAvJUtH"
      },
      "execution_count": 149,
      "outputs": []
    },
    {
      "cell_type": "code",
      "source": [
        "df_clean.show(10)"
      ],
      "metadata": {
        "colab": {
          "base_uri": "https://localhost:8080/"
        },
        "id": "vtWwo3gAKIuC",
        "outputId": "4a10ea12-258e-4d69-840c-db96a1ed96af"
      },
      "execution_count": 150,
      "outputs": [
        {
          "output_type": "stream",
          "name": "stdout",
          "text": [
            "+--------------------+--------------------+--------------------+------+--------------------+--------------------+--------------------+--------------------+----------------+-----------------+------------------+--------------------+------------------+------------------+-----------------+---------------+--------------+\n",
            "|         movie_title|          movie_info|   critics_consensus|rating|               genre|           directors|             writers|                cast|in_theaters_date|on_streaming_date|runtime_in_minutes|         studio_name|tomatometer_status|tomatometer_rating|tomatometer_count|audience_rating|audience_count|\n",
            "+--------------------+--------------------+--------------------+------+--------------------+--------------------+--------------------+--------------------+----------------+-----------------+------------------+--------------------+------------------+------------------+-----------------+---------------+--------------+\n",
            "|Percy Jackson & t...|A teenager discov...|Though it may see...|    PG|Action & Adventur...|      Chris Columbus|        Craig Titley|Logan Lerman, Bra...|      2010-02-12|       2010-06-29|                83|    20th Century Fox|            Rotten|                49|              144|             53|        254287|\n",
            "|         Please Give|Kate has a lot on...|Nicole Holofcener...|     R|              Comedy|   Nicole Holofcener|   Nicole Holofcener|Catherine Keener,...|      2010-04-30|       2010-10-19|                90|Sony Pictures Cla...|   Certified Fresh|                86|              140|             64|         11567|\n",
            "|20,000 Leagues Un...|This 1954 Disney ...|One of Disney's f...|     G|Action & Adventur...|   Richard Fleischer|         Earl Felton|James Mason, Kirk...|      1954-01-01|       2003-05-20|               127|              Disney|             Fresh|                89|               27|             74|         68860|\n",
            "|         10,000 B.C.|A young outcast f...|With attention st...| PG-13|Action & Adventur...|     Roland Emmerich|Roland Emmerich, ...|Steven Strait, Ca...|      2008-03-07|       2008-06-24|               109|Warner Bros. Pict...|            Rotten|                 8|              148|             37|        411087|\n",
            "|        The 39 Steps|A man in London t...|Packed with twist...|    NR|Action & Adventur...|    Alfred Hitchcock|Alma Reville, Cha...|Robert Donat, Mad...|      1935-08-01|       1935-06-06|                87|Gaumont British D...|   Certified Fresh|                96|               47|             86|         23827|\n",
            "|       The Lost City|Andy Garcia stars...|Its heart is in t...|     R|               Drama|         Andy Garcia|G. Cabrera Infant...|Andy Garcia, Dust...|      2005-09-03|       2006-08-08|               143|   Magnolia Pictures|            Rotten|                25|               83|             64|         25940|\n",
            "|The Bridge of San...|Thornton Wilder's...|Despite an all-st...|    PG|Art House & Inter...|      Mary McGuckian|      Mary McGuckian|Gabriel Byrne, F....|      2005-06-10|       2005-10-11|               120|  Fine Line Features|            Rotten|                 4|               24|             35|          1931|\n",
            "|            Criminal|A contemporary ca...|If you saw Nine Q...|     R|Drama, Mystery & ...|Greggory Jacobs, ...|Gregory Jacobs, F...|John C. Reilly, D...|      2004-09-24|       2005-04-12|                88|Warner Bros. Pict...|             Fresh|                69|              124|             57|          6702|\n",
            "|           Deep Blue|This comprehensiv...|Full of visually ...|     G|Documentary, Spec...|Andy Byatt, Alast...|Alastair Fothergi...|Pierce Brosnan, M...|      2005-06-17|       2006-04-11|                90|       Miramax Flims|             Fresh|                67|               52|             80|          4690|\n",
            "|    Tristan & Isolde|In the medieval l...|Competent but som...| PG-13|Drama, Science Fi...|      Kevin Reynolds|      Dean Georgaris|James Franco, Sop...|      2006-01-13|       2006-04-25|                99|    20th Century Fox|            Rotten|                31|              121|             71|        220945|\n",
            "+--------------------+--------------------+--------------------+------+--------------------+--------------------+--------------------+--------------------+----------------+-----------------+------------------+--------------------+------------------+------------------+-----------------+---------------+--------------+\n",
            "only showing top 10 rows\n",
            "\n"
          ]
        }
      ]
    },
    {
      "cell_type": "markdown",
      "source": [
        "## 2. Intermediaire: Manipulation des données & analyse"
      ],
      "metadata": {
        "id": "aVy0olMchijU"
      }
    },
    {
      "cell_type": "markdown",
      "source": [
        "#### Les films ayant une note très basse (tomatometer_rating < 20)"
      ],
      "metadata": {
        "id": "R7UsJajyhoqy"
      }
    },
    {
      "cell_type": "code",
      "source": [
        "# Filtrer les films avec une note inférieure à 20\n",
        "df_filtered = df_clean.filter(col(\"tomatometer_rating\") < 20)\n",
        "\n",
        "# Trier les films dans l'ordre croissant des notes\n",
        "df_sorted = df_filtered.orderBy(\"tomatometer_rating\", ascending=True)\n",
        "\n",
        "# Afficher les résultats (les 50 premiers films)\n",
        "df_sorted.show(50)"
      ],
      "metadata": {
        "colab": {
          "base_uri": "https://localhost:8080/"
        },
        "id": "XDaGdnSEVmtM",
        "outputId": "d6e57c51-9a93-4822-8f77-9f9e632cf2c9"
      },
      "execution_count": 151,
      "outputs": [
        {
          "output_type": "stream",
          "name": "stdout",
          "text": [
            "+--------------------+--------------------+--------------------+------+--------------------+--------------------+--------------------+--------------------+----------------+-----------------+------------------+--------------------+------------------+------------------+-----------------+---------------+--------------+\n",
            "|         movie_title|          movie_info|   critics_consensus|rating|               genre|           directors|             writers|                cast|in_theaters_date|on_streaming_date|runtime_in_minutes|         studio_name|tomatometer_status|tomatometer_rating|tomatometer_count|audience_rating|audience_count|\n",
            "+--------------------+--------------------+--------------------+------+--------------------+--------------------+--------------------+--------------------+----------------+-----------------+------------------+--------------------+------------------+------------------+-----------------+---------------+--------------+\n",
            "|   Merci Docteur Rey|Andrew Litvack's ...|This overly wacky...|     R|Art House & Inter...|Andrew Litvack, A...|      Andrew Litvack|Dianne Wiest, Jan...|      2002-10-13|       2005-08-09|                91|    Regent Releasing|            Rotten|                 0|               22|             65|           548|\n",
            "|                Scar|A young woman bes...|A nasty, witless ...|     R|Drama, Horror, My...|        Jed Weintrob|           Zack Ford|Angela Bettis, Ki...|      2007-05-20|       2006-09-26|                78|             Unknown|            Rotten|                 0|               18|             11|           688|\n",
            "|National Lampoon'...|American independ...|It aspires to Far...| PG-13|              Comedy|       Gary Preisler|       Gary Preisler|Will Friedle, Chr...|      2004-09-17|       2005-03-29|                87|MGM Home Entertai...|            Rotten|                 0|               44|             21|          6570|\n",
            "|           Pinocchio|A remake of the c...|Roberto Benigni m...|     G|Art House & Inter...|     Roberto Benigni|Roberto Benigni, ...|Roberto Benigni, ...|      2002-12-25|       2003-07-15|               111|       Miramax Films|            Rotten|                 0|               54|             32|          8930|\n",
            "|     One Missed Call|Shannyn Sossamon ...|One of the weakes...| PG-13|Horror, Mystery &...|        Eric Valette|Andrew Klavan, Mi...|Shannyn Sossamon,...|      2008-01-04|       2008-04-22|                87|Warner Bros. Pict...|            Rotten|                 0|               80|             29|         61705|\n",
            "|    A Thousand Words|Eddie Murphy is J...|Dated jokes (A Th...| PG-13|       Comedy, Drama|       Brian Robbins|Brian Robbins, No...|Eddie Murphy, Ker...|      2012-03-09|       2012-06-26|                91|  Paramount Pictures|            Rotten|                 0|               57|             47|         74883|\n",
            "|       Problem Child|A yuppie couple a...|Mean-spirited and...|    PG|Comedy, Kids & Fa...|        Dennis Dugan|Scott Alexander, ...|John Ritter, Mich...|      1990-07-27|       1999-10-19|                81|  Universal Pictures|            Rotten|                 0|               29|             41|         55944|\n",
            "|Ballistic: Ecks v...|Two former govern...|A startlingly ine...|     R|Action & Adventur...|   Wych Kaosayananda|     Alan B. McElroy|Antonio Banderas,...|      2002-09-20|       2002-12-24|                91|Warner Bros. Pict...|            Rotten|                 0|              117|             19|         22975|\n",
            "|             Redline|Eddie Griffin and...|Redline has plent...| PG-13|  Action & Adventure|          Andy Cheng|Robert Foreman, R...|Nadia Bjorlin, Na...|      2007-04-13|       2007-08-21|                93|   Chicago Releasing|            Rotten|                 0|               27|             47|        104019|\n",
            "|         Cabin Fever|The story is fami...|No need for a qua...|     R|              Horror|      Travis Zariwny|Randy Pearlstein,...|Gage Golightly, M...|      2016-02-12|       2016-02-12|                99| Pelican Point Media|            Rotten|                 0|               28|             12|           659|\n",
            "|Return to the Blu...|This sequel to th...|Despite its lush ...| PG-13|Action & Adventur...|   William A. Graham|Henry De Vere Sta...|Milla Jovovich, B...|      1991-01-01|       2002-11-05|               101|Sony Pictures Hom...|            Rotten|                 0|               30|             41|         15828|\n",
            "|         Dark Crimes|Jim Carrey comman...|Dark Crimes is a ...|     R|               Drama|  Alexandros Avranas|        Jeremy Brock|Jim Carrey, Marto...|      2018-05-18|       2018-07-31|                92|         Saban Films|            Rotten|                 0|               35|             31|           907|\n",
            "|            Stratton|Stratton, a Speci...|Stratton's action...|     R|Action & Adventur...|          Simon West|Warren Davis II, ...|Dominic Cooper, A...|      2018-01-05|       2018-02-06|                95|SquareOne Enterta...|            Rotten|                 0|               34|             19|           176|\n",
            "|   Jaws: The Revenge|Lorraine Gary sta...|Illogical, tensio...| PG-13|Action & Adventur...|      Joseph Sargent|   Michael De Guzman|Lorraine Gary, Mi...|      1987-01-01|       1999-01-15|                89|  Universal Pictures|            Rotten|                 0|               35|             15|         88384|\n",
            "|Superbabies: Baby...|The adventure con...|A startling lack ...|    PG|Action & Adventur...|           Bob Clark|Steven Paul, Greg...|Jon Voight, Scott...|      2004-08-27|       2005-01-04|                89|                Sony|            Rotten|                 0|               45|             24|          6969|\n",
            "|   Killing Me Softly|The director of s...|Respected directo...|     R|Art House & Inter...|          Kaige Chen|      Kara Lindstrom|Heather Graham, J...|      2003-03-25|       2003-03-25|               100|                 MGM|            Rotten|                 0|               22|             40|          8459|\n",
            "|The Disappointmen...|In this psycholog...|The Disappointmen...|     R|Horror, Mystery &...|         D.J. Caruso|Wentworth Miller,...|Kate Beckinsale, ...|      2016-09-09|       2016-12-20|               100|  Relativity Studios|            Rotten|                 0|               25|             17|          3406|\n",
            "|       London Fields|Recently arrived ...|London Fields bun...|     R|  Mystery & Suspense|       Mathew Cullen|Mathew Cullen, Ro...|Amber Heard, Theo...|      2018-10-26|       2019-02-12|               108|    20th Century Fox|            Rotten|                 0|               35|             50|           354|\n",
            "|        Wagons East!|Tired of frontier...|Wagons East! is a...| PG-13|Comedy, Drama, We...|        Peter Markle|Jerry Abrahamson,...|John Candy, Richa...|      1994-08-26|       2002-06-18|               107|Artisan Entertain...|            Rotten|                 0|               29|             31|          7721|\n",
            "|Look Who's Talkin...|This final instal...|Look Who's Talkin...| PG-13|Comedy, Kids & Fa...|      Tom Ropelewski|Tom Ropelewski, L...|John Travolta, Ki...|      1993-11-05|       2002-06-11|                95|Sony Pictures Hom...|            Rotten|                 0|               25|             29|        185860|\n",
            "|             Twisted|Philip Kaufman di...|An implausible, o...|     R|Drama, Mystery & ...|      Philip Kaufman|         Sarah Thorp|Ashley Judd, Samu...|      2004-02-27|       2004-08-31|                96|  Paramount Pictures|            Rotten|                 1|              135|             31|         19101|\n",
            "|   Alone in the Dark|Edward Carnby is ...|Inept on almost e...|     R|Action & Adventur...|            Uwe Boll|Elan Mastai, Mich...|Christian Slater,...|      2005-01-28|       2005-05-10|                96|           Lionsgate|            Rotten|                 1|              123|             11|         57770|\n",
            "|      Disaster Movie|The filmmaking te...|Returning to thei...| PG-13|              Comedy|Aaron Seltzer, Ja...|Aaron Seltzer, Ja...|Matt Lanter, Kim ...|      2008-08-29|       2009-01-06|                88|           Lionsgate|            Rotten|                 1|               74|             21|        128287|\n",
            "|         Left Behind|The most importan...|Yea verily, like ...| PG-13|  Mystery & Suspense|       Vic Armstrong|John Patus, Paul ...|Nicolas Cage, Cha...|      2014-10-03|       2015-01-06|               110| Freestyle Releasing|            Rotten|                 1|               68|             38|         20592|\n",
            "|          Mixed Nuts|A holiday comedy ...|Mixed Nuts may pr...| PG-13|              Comedy|         Nora Ephron|Nora Ephron, Deli...|Steve Martin, Mad...|      1994-12-21|       2001-12-04|                97|Sony Pictures Hom...|            Rotten|                10|               30|             46|          9710|\n",
            "|          The Unborn|Casey Beldon hate...|David Goyer's Unb...| PG-13|Horror, Mystery &...|      David S. Goyer|      David S. Goyer|Odette Annable, G...|      2009-01-09|       2009-07-07|                88|      Rogue Pictures|            Rotten|                10|              118|             30|        831822|\n",
            "|      Monster Family|The Wishbone fami...|Monster Family pr...|    PG|Animation, Horror...|        Holger Tappe|      Catharina Junk|Celia Imrie, Emil...|      2018-02-09|       2018-02-09|                96|       Viva Pictures|            Rotten|                10|               21|             22|           220|\n",
            "|        House Arrest|Kevin Pollak and ...|Constructed out o...|    PG|Comedy, Kids & Fa...|         Harry Winer|   Michael Hitchcock|Jamie Lee Curtis,...|      1996-08-14|       2002-04-02|               108|           HBO Video|            Rotten|                10|               30|             45|         20030|\n",
            "|Orca - The Killer...|Another big-budge...|Content to regurg...|    PG|Action & Adventur...|    Michael Anderson|Sergio Donati, Lu...|Richard Harris, C...|      1977-07-15|       2004-09-14|                92|  Paramount Pictures|            Rotten|                10|               31|             33|          8709|\n",
            "|           Supernova|Supernova chronic...|This is an insult...| PG-13|Horror, Science F...|Thomas Lee, Franc...|David Campbell Wi...|James Spader, Pet...|      2000-01-14|       2001-08-15|                90|              MGM/UA|            Rotten|                10|               61|             17|         11024|\n",
            "|         Point Break|An undercover cop...|Loaded with dazzl...| PG-13|  Action & Adventure|        Ericson Core|         Kurt Wimmer|Luke Bracey, Edga...|      2015-12-25|       2016-03-29|               113|Warner Bros. Pict...|            Rotten|                10|              107|             29|         18029|\n",
            "|    Perfect Stranger|When investigativ...|Despite the prese...|     R|Drama, Mystery & ...|         James Foley|John Bokenkamp, T...|Halle Berry, Bruc...|      2007-04-13|       2007-08-21|               109|       Sony Pictures|            Rotten|                10|              142|             51|        336508|\n",
            "|              Saw 3D|The Saw series co...|Sloppily filmed, ...|     R|              Horror|      Kevin Greutert|Marcus Dunstan, P...|Tobin Bell, Costa...|      2010-10-29|       2011-01-25|                90|           Lionsgate|            Rotten|                10|               79|             42|         75267|\n",
            "|           Hell Ride|Veteran AIP genre...|Hell Ride misses ...|     R|Action & Adventur...|        Larry Bishop|        Larry Bishop|Michael Madsen, V...|      2008-08-08|       2008-10-28|                87|     Dimension Films|            Rotten|                10|               59|             30|          5515|\n",
            "|Silent Hill: Reve...|In Silent Hill: R...|Mediocre effort e...|     R|Horror, Mystery &...|  Michael J. Bassett|  Michael J. Bassett|Adelaide Clemens,...|      2012-10-26|       2013-02-12|                94|     Open Road Films|            Rotten|                10|               60|             35|         42259|\n",
            "|     My Soul to Take|Wes Craven return...|Dull, joyless, an...|     R|Horror, Mystery &...|Petra Korner, Wes...|          Wes Craven|Max Thieriot, Joh...|      2010-10-08|       2011-02-08|               108|  Universal Pictures|            Rotten|                10|               61|             26|         33390|\n",
            "|           Stonewall|STONEWALL is a dr...|As an ordinary co...|     R|               Drama|     Roland Emmerich|     Jon Robin Baitz|Jonathan Rhys Mey...|      2015-09-25|       2016-01-19|               129|Roadside Attractions|            Rotten|                10|               73|             85|          3185|\n",
            "|Beverly Hills Cop...|Comedy takes a ba...|Despite being set...|     R|Action & Adventur...|         John Landis|Steven E. de Souz...|Eddie Murphy, Jud...|      1994-05-25|       2002-01-29|               109|Paramount Home Video|            Rotten|                10|               50|             35|        204982|\n",
            "|           Supergirl|A big-budget spin...|The effects are c...|    PG|Action & Adventur...|      Jeannot Szwarc|         David Odell|Helen Slater, Fay...|      1984-11-21|       2000-08-08|                89|    TriStar Pictures|            Rotten|                10|               31|             26|         49199|\n",
            "|Dumb and Dumberer...|\"Set in 1986, whe...|This lame prequel...| PG-13|              Comedy|         Troy Miller|Robert Brenner, T...|Eric Christian Ol...|      2003-06-13|       2003-11-11|                96|     New Line Cinema|            Rotten|                10|              119|             23|        258904|\n",
            "|          The Forest|Against the backd...|The Forest offers...| PG-13|       Drama, Horror|          Jason Zada|Sarah Cornwell, N...|Natalie Dormer, T...|      2016-01-08|       2016-04-12|                94|   Gramercy Pictures|            Rotten|                10|              136|             22|         14556|\n",
            "|  Dungeons & Dragons|The Empire of Izm...|Critics say this ...| PG-13|Action & Adventur...|    Courtney Solomon|Mark Leahy, Carro...|Justin Whalin, Je...|      2000-12-08|       2001-05-22|               107|     New Line Cinema|            Rotten|                10|               92|             20|         47641|\n",
            "|       The Professor|Richard (Johnny D...|A muddled story p...|     R|       Comedy, Drama|       Wayne Roberts|       Wayne Roberts|Johnny Depp, Zoey...|      2019-05-17|       2019-05-17|                91|         Saban Films|            Rotten|                10|               20|             76|           330|\n",
            "|Exorcist: The Beg...|The first prequel...|A mediocre, gory ...|     R|Drama, Horror, My...|        Renny Harlin|Alexi Hawley, Ren...|Stellan Skarsgard...|      2004-08-20|       2005-10-25|               114|Warner Bros. Pict...|            Rotten|                10|              134|             27|         80443|\n",
            "|            Trespass|In a private, wea...|Another claustrop...|     R|Drama, Mystery & ...|     Joel Schumacher|Karl Gajdusek, El...|Nicolas Cage, Nic...|      2011-10-14|       2011-11-01|                85|Millennium Entert...|            Rotten|                10|               73|             22|          7232|\n",
            "|          Fire Birds|Nicolas Cage star...|Despite the talen...| PG-13|  Action & Adventure|         David Green|Paul F. Edwards, ...|Nicolas Cage, Tom...|      1990-05-24|       2004-02-03|                85| Touchstone Pictures|            Rotten|                10|               21|             36|          6835|\n",
            "| Unfinished Business|A hard-working sm...|Unfocused and unf...|     R|              Comedy|       Ken Scott (V)|       Steven Conrad|Vince Vaughn, Tom...|      2015-03-06|       2015-06-16|                90|    20th Century Fox|            Rotten|                10|              100|             26|         18046|\n",
            "| Freddy Got Fingered|Television star T...|Unfavorably compa...|     R|              Comedy|     Tom Green (III)|Tom Green (III), ...|Tom Green (III), ...|      2001-04-20|       2001-10-23|                92|    20th Century Fox|            Rotten|                10|               93|             56|        131627|\n",
            "|         The Watcher|A detective is ur...|The Watcher has K...|     R|Drama, Mystery & ...|       Joe Charbanic|Joe Charbanic, Da...|James Spader, Kea...|      2000-09-08|       2003-09-02|                97|  Universal Pictures|            Rotten|                10|               89|             29|         21593|\n",
            "|From Justin To Kelly|From the producer...|A notorious stink...|    PG|Comedy, Musical &...|       Robert Iscove|          Kim Fuller|Kelly Clarkson, J...|      2003-06-20|       2003-08-26|                81|    20th Century Fox|            Rotten|                10|               63|             39|         52900|\n",
            "+--------------------+--------------------+--------------------+------+--------------------+--------------------+--------------------+--------------------+----------------+-----------------+------------------+--------------------+------------------+------------------+-----------------+---------------+--------------+\n",
            "only showing top 50 rows\n",
            "\n"
          ]
        }
      ]
    },
    {
      "cell_type": "markdown",
      "source": [
        "#### Les films sortis (en cinéma) après l’année 2000"
      ],
      "metadata": {
        "id": "RJDXty0Hhvdq"
      }
    },
    {
      "cell_type": "code",
      "source": [
        "# Filtrer les films sortis après l'année 2000\n",
        "df_films_after_2000 = df_clean.filter(col(\"in_theaters_date\") > \"2000-01-01\")\n",
        "\n",
        "#Tri dans l'ordre croissant\n",
        "df_sorted = df_films_after_2000.orderBy(\"in_theaters_date\", ascending=True)\n",
        "\n",
        "# Afficher les résultats\n",
        "df_sorted.show()"
      ],
      "metadata": {
        "colab": {
          "base_uri": "https://localhost:8080/"
        },
        "id": "v5oj0q17aDH9",
        "outputId": "dcb41517-5e1b-403a-aac9-4d6f3e2f8681"
      },
      "execution_count": 152,
      "outputs": [
        {
          "output_type": "stream",
          "name": "stdout",
          "text": [
            "+--------------------+--------------------+--------------------+------+--------------------+--------------------+--------------------+--------------------+----------------+-----------------+------------------+--------------------+------------------+------------------+-----------------+---------------+--------------+\n",
            "|         movie_title|          movie_info|   critics_consensus|rating|               genre|           directors|             writers|                cast|in_theaters_date|on_streaming_date|runtime_in_minutes|         studio_name|tomatometer_status|tomatometer_rating|tomatometer_count|audience_rating|audience_count|\n",
            "+--------------------+--------------------+--------------------+------+--------------------+--------------------+--------------------+--------------------+----------------+-----------------+------------------+--------------------+------------------+------------------+-----------------+---------------+--------------+\n",
            "|           Supernova|Supernova chronic...|This is an insult...| PG-13|Horror, Science F...|Thomas Lee, Franc...|David Campbell Wi...|James Spader, Pet...|      2000-01-14|       2001-08-15|                90|              MGM/UA|            Rotten|                10|               61|             17|         11024|\n",
            "|          Holy Smoke|It's said that se...|Superb performanc...|     R|Art House & Inter...|        Jane Campion|Jane Campion, Ann...|Kate Winslet, Har...|      2000-01-14|       2001-12-04|               114|       Miramax Films|            Rotten|                45|               82|             47|          7826|\n",
            "|     What's Cooking?|That most America...|What's Cooking? i...| PG-13|       Comedy, Drama|     Gurinder Chadha|Paul Mayeda Berge...|Kyra Sedgwick, Me...|      2000-01-20|       2001-04-10|               118|    Trimark Pictures|            Rotten|                52|               66|             65|          1522|\n",
            "|         Down to You|\"This Big Apple-b...|Down to You is ru...| PG-13|     Comedy, Romance|       Kris Isacsson|       Kris Isacsson|Freddie Prinze Jr...|      2000-01-21|       2000-07-11|                91|             Miramax|            Rotten|                 3|               59|             49|         51502|\n",
            "|The Crow - Salvation|The third install...|The Crow: Salvati...|     R|Action & Adventur...|      Bharat Nalluri|    Chip Johannessen|Kirsten Dunst, Er...|      2000-01-23|       2001-03-20|               102|       Pacific Films|            Rotten|                22|                9|             43|         49005|\n",
            "|Crime & Punishmen...|Recalling both Th...|Despite the beaut...|     R|Art House & Inter...|         Rob Schmidt|         Larry Gross|Monica Keena, Vin...|      2000-01-24|       2001-01-02|               100|MGM Home Entertai...|            Rotten|                21|               29|             58|          3031|\n",
            "|       The Big Tease|Craig Ferguson, b...|The Big Tease may...|     R|Art House & Inter...|         Kevin Allen|Sacha Gervasi, Cr...|Craig Ferguson, F...|      2000-01-26|       2000-07-18|                86|WARNER BROTHERS P...|            Rotten|                56|               39|             55|          2497|\n",
            "| Love and Basketball|A young African-A...|Confident directi...| PG-13|      Drama, Romance|Gina Prince-Bythe...|Gina Prince-Bythe...|Sanaa Lathan, Oma...|      2000-01-26|       2000-10-10|               124|     New Line Cinema|   Certified Fresh|                82|               91|             95|        186826|\n",
            "| Eye of the Beholder|Part high-tech sp...|Improbable and mu...|     R|Drama, Mystery & ...|     Stephan Elliott|Stephan Elliott, ...|Ewan McGregor, As...|      2000-01-28|       2000-05-23|               101|Desintation Film ...|            Rotten|                 9|               87|             32|         10478|\n",
            "|          About Adam|Gerard Stembridge...|Although some of ...|     R|Art House & Inter...|   Gerard Stembridge|   Gerard Stembridge|Stuart Townsend, ...|      2000-01-28|       2001-10-23|                96|       Miramax Films|             Fresh|                68|               57|             47|          9432|\n",
            "|     Isn't She Great|Jacqueline Susann...|Bland material pr...|     R|       Comedy, Drama|      Andrew Bergman|        Paul Rudnick|Bette Midler, Nat...|      2000-01-28|       2000-07-18|                93|Universal Studios...|            Rotten|                25|               61|             39|          2628|\n",
            "|            Scream 3|In the third and ...|Despite some surp...|     R|              Horror|          Wes Craven|Ehren Kruger, Lae...|Neve Campbell, Da...|      2000-02-04|       2000-07-04|               116|     Dimension Films|            Rotten|                39|              121|             37|        404683|\n",
            "|             Gun Shy|In this action-la...|A dark comedy of ...|     R|              Comedy|       Eric Blakeney|       Eric Blakeney|Liam Neeson, Oliv...|      2000-02-04|       2001-10-30|               102|  Hollywood Pictures|            Rotten|                24|               42|             36|          5286|\n",
            "|             28 Days|Gwen Cummings is ...|Even though 28 Da...| PG-13|       Comedy, Drama|        Betty Thomas|      Susannah Grant|Sandra Bullock, V...|      2000-02-08|       2005-07-05|               103|   Columbia Pictures|            Rotten|                32|               84|             50|        319705|\n",
            "|         Pitch Black|In this science f...|Despite an intere...|     R|Horror, Science F...|         David Twohy|Jim Wheat, Ken Wh...|Vin Diesel, Radha...|      2000-02-18|       2000-10-24|               108|Gramercy Pictures...|            Rotten|                59|              109|             77|        278555|\n",
            "|          Hanging Up|Diane Keaton dire...|Though the screen...| PG-13|       Comedy, Drama|        Diane Keaton|Nora Ephron, Deli...|Meg Ryan, Diane K...|      2000-02-18|       2000-06-27|                95|Sony Pictures Hom...|            Rotten|                12|               85|             34|         21249|\n",
            "|The Whole Nine Yards|In this black com...|Despite a charmin...|     R|              Comedy|       Jonathan Lynn|     Mitchell Kapner|Bruce Willis, Mat...|      2000-02-18|       2000-07-18|                98|   Warner Home Video|            Rotten|                45|              100|             64|        211615|\n",
            "|Reindeer Games (D...|A burglar looking...|Despite a decent ...|     R|Action & Adventur...|  John Frankenheimer|        Ehren Kruger|Ben Affleck, Gary...|      2000-02-25|       2000-08-08|               104|     Dimension Films|            Rotten|                25|               88|             27|         43100|\n",
            "|The Million Dolla...|Set in 2001, a gr...|Critics say the w...|     R|Art House & Inter...|         Wim Wenders|      Nicholas Klein|Jeremy Davies, Mi...|      2000-02-25|       2001-06-12|               122|  Icon Entertainment|            Rotten|                25|               44|             68|         11380|\n",
            "|What Planet Are Y...|Garry Shandling m...|Though What Plane...|     R|Comedy, Horror, S...|Mike Nichols, Mik...|Garry Shandling, ...|Garry Shandling, ...|      2000-03-03|       2000-07-18|               105|   Columbia Pictures|            Rotten|                42|               77|             28|          5974|\n",
            "+--------------------+--------------------+--------------------+------+--------------------+--------------------+--------------------+--------------------+----------------+-----------------+------------------+--------------------+------------------+------------------+-----------------+---------------+--------------+\n",
            "only showing top 20 rows\n",
            "\n"
          ]
        }
      ]
    },
    {
      "cell_type": "markdown",
      "source": [
        "#### La note moyenne des films par studio"
      ],
      "metadata": {
        "id": "cAN3R1jZh3Xb"
      }
    },
    {
      "cell_type": "code",
      "source": [
        "df_avg_studio = df_clean.groupBy(\"studio_name\").agg(\n",
        "    round(avg(\"tomatometer_rating\"), 1).alias(\"average_tomatometer_rating\")\n",
        ")\n",
        "\n",
        "#Trier notes par ordre décroissant\n",
        "df_sorted = df_avg_studio.orderBy(\"average_tomatometer_rating\", ascending=False)\n",
        "\n",
        "# Afficher les résultats\n",
        "df_sorted.show()"
      ],
      "metadata": {
        "colab": {
          "base_uri": "https://localhost:8080/"
        },
        "id": "9fFH5il-a5HI",
        "outputId": "427c8ecb-542a-446d-fec1-85e963e606ff"
      },
      "execution_count": 153,
      "outputs": [
        {
          "output_type": "stream",
          "name": "stdout",
          "text": [
            "+--------------------+--------------------------+\n",
            "|         studio_name|average_tomatometer_rating|\n",
            "+--------------------+--------------------------+\n",
            "|      Ealing Studios|                     100.0|\n",
            "|Distribution Company|                     100.0|\n",
            "|Nagoya Broadcasti...|                     100.0|\n",
            "| Shore International|                     100.0|\n",
            "|Zenith Internatio...|                     100.0|\n",
            "|    Grasshopper Film|                     100.0|\n",
            "|    Showtime Network|                     100.0|\n",
            "|                 NCM|                     100.0|\n",
            "|La Casa de Produc...|                     100.0|\n",
            "|Majestic Films In...|                     100.0|\n",
            "|   Itami Productions|                     100.0|\n",
            "|         Park Circus|                     100.0|\n",
            "|Playground Produc...|                     100.0|\n",
            "|      BFI Production|                     100.0|\n",
            "|               Xenon|                     100.0|\n",
            "|    Skouras Pictures|                     100.0|\n",
            "|     Edward Harrison|                     100.0|\n",
            "|General Foreign S...|                     100.0|\n",
            "|       Paramount/DWA|                      99.0|\n",
            "|        Wigwam Films|                      99.0|\n",
            "+--------------------+--------------------------+\n",
            "only showing top 20 rows\n",
            "\n"
          ]
        }
      ]
    },
    {
      "cell_type": "markdown",
      "source": [
        " #### La note moyenne des films par directeur"
      ],
      "metadata": {
        "id": "QHixVUGWh7C1"
      }
    },
    {
      "cell_type": "code",
      "source": [
        "df_avg_directors = df_clean.groupBy(\"directors\").agg(\n",
        "    round(avg(\"tomatometer_rating\"), 1).alias(\"average_tomatometer_rating\")\n",
        ")\n",
        "\n",
        "#Trier notes par ordre décroissant\n",
        "df_sorted = df_avg_directors.orderBy(\"average_tomatometer_rating\", ascending=False)\n",
        "\n",
        "# Afficher les résultats\n",
        "df_sorted.show()"
      ],
      "metadata": {
        "colab": {
          "base_uri": "https://localhost:8080/"
        },
        "id": "3AUYU3hkb0BI",
        "outputId": "7c1f1c4e-ba81-4299-c77e-273520dd3af4"
      },
      "execution_count": 154,
      "outputs": [
        {
          "output_type": "stream",
          "name": "stdout",
          "text": [
            "+--------------------+--------------------------+\n",
            "|           directors|average_tomatometer_rating|\n",
            "+--------------------+--------------------------+\n",
            "|        Bill Forsyth|                     100.0|\n",
            "|     Kenji Mizoguchi|                     100.0|\n",
            "|           Lixin Fan|                     100.0|\n",
            "|       Jorge Gaggero|                     100.0|\n",
            "|        Rachel Lears|                     100.0|\n",
            "|     Chantal Akerman|                     100.0|\n",
            "|         James Whale|                     100.0|\n",
            "|        Delbert Mann|                     100.0|\n",
            "|        Robert Hamer|                     100.0|\n",
            "|          Juzo Itami|                     100.0|\n",
            "|Shlomi Elkabetz, ...|                     100.0|\n",
            "|                One9|                     100.0|\n",
            "|John Huston, John...|                     100.0|\n",
            "|Rolf Bickel, Diet...|                     100.0|\n",
            "|    Jayro Bustamante|                     100.0|\n",
            "|      Ernst Lubitsch|                     100.0|\n",
            "|       Mark Sandrich|                     100.0|\n",
            "|        Robert Wiene|                     100.0|\n",
            "|     Preston Sturges|                     100.0|\n",
            "|  Bertrand Tavernier|                     100.0|\n",
            "+--------------------+--------------------------+\n",
            "only showing top 20 rows\n",
            "\n"
          ]
        }
      ]
    },
    {
      "cell_type": "markdown",
      "source": [
        "## 3. Avancé: Utilisation de fonctions avancées"
      ],
      "metadata": {
        "id": "wh0CDj1uh_8f"
      }
    },
    {
      "cell_type": "markdown",
      "source": [
        "#### Diviser les genres multiples d’une colonne en genres individuels"
      ],
      "metadata": {
        "id": "OjkGLbESiEBx"
      }
    },
    {
      "cell_type": "code",
      "source": [
        "df_with_individual_genres = df_clean \\\n",
        "    .withColumn(\"genre\", explode(split(col(\"genre\"), \",\\s*\")))\n",
        "\n",
        "df_with_individual_genres.show(5)"
      ],
      "metadata": {
        "colab": {
          "base_uri": "https://localhost:8080/"
        },
        "id": "fb-tYRsRfKY6",
        "outputId": "c0bcddc3-02a6-4bda-b65d-3a54bd9c6442"
      },
      "execution_count": 156,
      "outputs": [
        {
          "output_type": "stream",
          "name": "stdout",
          "text": [
            "+--------------------+--------------------+--------------------+------+--------------------+-----------------+-----------------+--------------------+----------------+-----------------+------------------+--------------------+------------------+------------------+-----------------+---------------+--------------+\n",
            "|         movie_title|          movie_info|   critics_consensus|rating|               genre|        directors|          writers|                cast|in_theaters_date|on_streaming_date|runtime_in_minutes|         studio_name|tomatometer_status|tomatometer_rating|tomatometer_count|audience_rating|audience_count|\n",
            "+--------------------+--------------------+--------------------+------+--------------------+-----------------+-----------------+--------------------+----------------+-----------------+------------------+--------------------+------------------+------------------+-----------------+---------------+--------------+\n",
            "|Percy Jackson & t...|A teenager discov...|Though it may see...|    PG|  Action & Adventure|   Chris Columbus|     Craig Titley|Logan Lerman, Bra...|      2010-02-12|       2010-06-29|                83|    20th Century Fox|            Rotten|                49|              144|             53|        254287|\n",
            "|Percy Jackson & t...|A teenager discov...|Though it may see...|    PG|              Comedy|   Chris Columbus|     Craig Titley|Logan Lerman, Bra...|      2010-02-12|       2010-06-29|                83|    20th Century Fox|            Rotten|                49|              144|             53|        254287|\n",
            "|Percy Jackson & t...|A teenager discov...|Though it may see...|    PG|               Drama|   Chris Columbus|     Craig Titley|Logan Lerman, Bra...|      2010-02-12|       2010-06-29|                83|    20th Century Fox|            Rotten|                49|              144|             53|        254287|\n",
            "|Percy Jackson & t...|A teenager discov...|Though it may see...|    PG|Science Fiction &...|   Chris Columbus|     Craig Titley|Logan Lerman, Bra...|      2010-02-12|       2010-06-29|                83|    20th Century Fox|            Rotten|                49|              144|             53|        254287|\n",
            "|         Please Give|Kate has a lot on...|Nicole Holofcener...|     R|              Comedy|Nicole Holofcener|Nicole Holofcener|Catherine Keener,...|      2010-04-30|       2010-10-19|                90|Sony Pictures Cla...|   Certified Fresh|                86|              140|             64|         11567|\n",
            "+--------------------+--------------------+--------------------+------+--------------------+-----------------+-----------------+--------------------+----------------+-----------------+------------------+--------------------+------------------+------------------+-----------------+---------------+--------------+\n",
            "only showing top 5 rows\n",
            "\n"
          ]
        }
      ]
    },
    {
      "cell_type": "markdown",
      "source": [
        "#### Calculer la durée moyenne des films pour chaque genre"
      ],
      "metadata": {
        "id": "2XsgDgr5iT83"
      }
    },
    {
      "cell_type": "code",
      "source": [
        "# Calcul de la durée moyenne par genre, arrondi à l'entier supérieur\n",
        "average_runtime_by_genre = df_with_individual_genres \\\n",
        "    .groupBy(\"genre\") \\\n",
        "    .agg(\n",
        "        ceil(avg(col(\"runtime_in_minutes\").cast(\"float\"))).alias(\"average_runtime\")\n",
        "    ) \\\n",
        "    .orderBy(\"average_runtime\", ascending=False)\n",
        "\n",
        "# Afficher les résultats\n",
        "average_runtime_by_genre.show(truncate=False)"
      ],
      "metadata": {
        "colab": {
          "base_uri": "https://localhost:8080/"
        },
        "id": "TUPGLn7SgAql",
        "outputId": "d67ccf54-f1d4-40a8-9639-5663229c8722"
      },
      "execution_count": 165,
      "outputs": [
        {
          "output_type": "stream",
          "name": "stdout",
          "text": [
            "+-------------------------+---------------+\n",
            "|genre                    |average_runtime|\n",
            "+-------------------------+---------------+\n",
            "|Classics                 |116            |\n",
            "|Western                  |116            |\n",
            "|Faith & Spirituality     |112            |\n",
            "|Action & Adventure       |110            |\n",
            "|Drama                    |110            |\n",
            "|Romance                  |109            |\n",
            "|Art House & International|108            |\n",
            "|Science Fiction & Fantasy|108            |\n",
            "|Mystery & Suspense       |107            |\n",
            "|Musical & Performing Arts|106            |\n",
            "|Sports & Fitness         |105            |\n",
            "|Cult Movies              |102            |\n",
            "|Comedy                   |101            |\n",
            "|Anime & Manga            |100            |\n",
            "|Television               |100            |\n",
            "|Gay & Lesbian            |100            |\n",
            "|Special Interest         |99             |\n",
            "|Horror                   |99             |\n",
            "|Documentary              |97             |\n",
            "|Kids & Family            |96             |\n",
            "+-------------------------+---------------+\n",
            "only showing top 20 rows\n",
            "\n"
          ]
        }
      ]
    }
  ]
}